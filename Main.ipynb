{
 "cells": [
  {
   "cell_type": "code",
   "execution_count": 3,
   "metadata": {},
   "outputs": [],
   "source": [
    "import os\n",
    "from Train import train\n",
    "from Test import test\n",
    "import numpy as np"
   ]
  },
  {
   "cell_type": "code",
   "execution_count": 8,
   "metadata": {},
   "outputs": [],
   "source": [
    "class sysconfig(object):\n",
    "    Pilots = 8        # number of pilots\n",
    "    with_CP_flag = True \n",
    "    SNR = 20\n",
    "    Clipping = False\n",
    "    Train_set_path = '/home/aabbasloo/Desktop/dnn/OFDM_DNN/H_dataset/H_dataset/'\n",
    "    Test_set_path = '/home/aabbasloo/Desktop/dnn/OFDM_DNN/H_dataset/H_dataset/'\n",
    "    Model_path = '/home/aabbasloo/Desktop/dnn/OFDM_DNN/Models/'\n",
    "    pred_range = np.arange(16,32)\n",
    "    learning_rate = 0.001\n",
    "    learning_rate_decrease_step = 2000   "
   ]
  },
  {
   "cell_type": "code",
   "execution_count": 11,
   "metadata": {},
   "outputs": [],
   "source": [
    "def main():\n",
    "    config = sysconfig()\n",
    "    print(config.Train_set_path)\n",
    "    IS_Training = True\n",
    "    if IS_Training:\n",
    "        train(config)\n",
    "    else:\n",
    "        test(config)"
   ]
  },
  {
   "cell_type": "code",
   "execution_count": null,
   "metadata": {},
   "outputs": [],
   "source": [
    "main()"
   ]
  }
 ],
 "metadata": {
  "kernelspec": {
   "display_name": "Python 3",
   "language": "python",
   "name": "python3"
  },
  "language_info": {
   "codemirror_mode": {
    "name": "ipython",
    "version": 3
   },
   "file_extension": ".py",
   "mimetype": "text/x-python",
   "name": "python",
   "nbconvert_exporter": "python",
   "pygments_lexer": "ipython3",
   "version": "3.6.8"
  }
 },
 "nbformat": 4,
 "nbformat_minor": 2
}
